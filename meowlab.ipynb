{
 "cells": [
  {
   "cell_type": "markdown",
   "id": "c6175159",
   "metadata": {},
   "source": [
    "# MeowLab\n",
    "\n",
    "> cat可能是你最常用的命令行工具之一，但是可能很少有人会关注cat的性能问题。\n",
    "> \n",
    "> 但实际上，cat可能比你想的更加高效。在这个lab中，我们会一起来探索cat如此高效的秘密。"
   ]
  },
  {
   "cell_type": "markdown",
   "id": "ef876965",
   "metadata": {},
   "source": [
    "## 什么是cat\n",
    "\n",
    "对于大部分同学来说，这个问题有些太trivial了。但是以防万一，还是在这里介绍一下，cat是一个GNU coreutils中的一个程序，它的作用是连接(con**cat**enate)一系列文件，并将其输出到标准输出流(stdout)中。\n",
    "\n",
    "> 如果你愿意去找，你会发现这个lab中所有的代码都可以在GNU coreutils中找到，或者你用某个大模型，它可能也能写得不错。\n",
    "> 但是，除了写代码以外，这个lab中也会包含一些分析和讨论。因此即使你选择直接去抄GNU coreutils中的代码，也不要直接不加思考的复制粘贴。"
   ]
  },
  {
   "cell_type": "markdown",
   "id": "be33179e",
   "metadata": {},
   "source": [
    "## 环境要求\n",
    "\n",
    "* 操作系统：Linux（任何包含GNU coreutils的发行版）\n",
    "* 编译器：本lab允许使用C/C++或者Rust，选择你喜欢的任何编译器即可。\n",
    "* Python3.x：本lab一些地方需要你画图，推荐你使用matplotlib。另外，我们使用一个简单的脚本来生成测试文件。"
   ]
  },
  {
   "cell_type": "markdown",
   "id": "c6d3e510",
   "metadata": {},
   "source": [
    "## 在开始之前\n",
    "\n",
    "这个项目的所有代码需要你自己动手来写，我们只提供了一个用于生成测试文件的脚本。\n",
    "\n",
    "为了展示比较明显的测试效果，我们会生成一个2GB的测试文件，请确保你的磁盘拥有足够的空间。你可以运行下面这个单元格来查看你的电脑是否有足够的空间。这里我们使用了`df`命令，这个命令的作用是查看某个文件系统所在的磁盘的使用量。"
   ]
  },
  {
   "cell_type": "code",
   "execution_count": null,
   "id": "14021422",
   "metadata": {},
   "outputs": [],
   "source": [
    "%%bash\n",
    "df -h /\n",
    "\n",
    "avail=$(df -h / | awk 'NR==2 {print $4}' | grep -o '[0-9.]*')\n",
    "unit=$(df -h / | awk 'NR==2 {print $4}' | grep -o '[a-zA-Z]*')\n",
    "if [[ \"$unit\" == \"M\" || \"$unit\" == \"K\" ]]; then\n",
    "    echo \"Disk space is low: $avail$unit\"\n",
    "elif [[ \"$unit\" == \"T\" ]]; then\n",
    "    echo \"Disk space is sufficient: $avail$unit\"\n",
    "elif [[ \"$unit\" == \"G\" ]]; then\n",
    "    if (( $(echo \"$avail < 10\" | bc -l) )); then\n",
    "        echo \"Disk space is low: $avail$unit\"\n",
    "    else\n",
    "        echo \"Disk space is sufficient: $avail$unit\"\n",
    "    fi\n",
    "else\n",
    "    echo \"Unknown unit: $unit\"\n",
    "fi\n"
   ]
  },
  {
   "cell_type": "markdown",
   "id": "64cc6804",
   "metadata": {},
   "source": [
    "你可以使用我们提供的python脚本来生成测试文件，运行下面的单元格。测试文件的生成可能会花费一定的时间。"
   ]
  },
  {
   "cell_type": "code",
   "execution_count": null,
   "id": "8ead0359",
   "metadata": {},
   "outputs": [],
   "source": [
    "import random\n",
    "\n",
    "MB = 1024 * 1024\n",
    "\n",
    "# A static seed for reproducibility\n",
    "random.seed(42)\n",
    "\n",
    "with open(\"test.txt\", \"wb\") as f:\n",
    "    for _ in range(2048):\n",
    "        f.write(random.randbytes(1 * MB)) # 1MB of random data"
   ]
  },
  {
   "cell_type": "markdown",
   "id": "a0017028",
   "metadata": {},
   "source": [
    "当前文件夹下面会出现一个大小为1GB的文件`test.txt`。你可以运行下面的单元格来验证。"
   ]
  },
  {
   "cell_type": "code",
   "execution_count": null,
   "id": "a4bd4bd0",
   "metadata": {},
   "outputs": [],
   "source": [
    "%%bash\n",
    "ls -lh test.txt"
   ]
  },
  {
   "cell_type": "markdown",
   "id": "55fbac6a",
   "metadata": {},
   "source": [
    "最后，我们的lab会需要使用`hyperfine`来测量程序的运行时间。我们推荐你使用`cargo`进行安装。你可以从[Rust官网](https://www.rust-lang.org/zh-CN/learn/get-started)找到安装脚本。如果你的电脑已经安装好了`cargo`，你可以运行下面的单元格来安装`hyperfine`。"
   ]
  },
  {
   "cell_type": "code",
   "execution_count": null,
   "id": "77f0165a",
   "metadata": {},
   "outputs": [],
   "source": [
    "%%bash\n",
    "cargo install hyperfine"
   ]
  },
  {
   "cell_type": "markdown",
   "id": "45cefa6f",
   "metadata": {},
   "source": [
    "有了以上的准备工作，我们终于可以开始我们的探索之旅了。"
   ]
  },
  {
   "cell_type": "markdown",
   "id": "9c1afa63",
   "metadata": {},
   "source": [
    "## 任务0: 测量cat的效率\n",
    "\n",
    "你要做的第一个任务十分简单。学习一下如何使用`hyperfine`，并且使用它来测试GNU coreutils中的cat输出我们生成的测试文件`test.txt`的时间。运行下面的单元格来运行测试。"
   ]
  },
  {
   "cell_type": "code",
   "execution_count": null,
   "id": "4af9a82b",
   "metadata": {},
   "outputs": [],
   "source": [
    "%%bash\n",
    "hyperfine --warmup 3 'cat test.txt'"
   ]
  },
  {
   "cell_type": "markdown",
   "id": "cd94fe5a",
   "metadata": {},
   "source": [
    "## 任务1: 写一个最朴素的cat\n",
    "\n",
    "我们现在使用`hyperfine`测量了GNU coreutils中的`cat`的运行效率，但是对于这个运行时间，我们可能并没有什么概念。现在我们将会写一个最朴素的`cat`程序来作为baseline。这个程序需要满足一下要求：\n",
    "1. 把你的源代码命名为`mycat1.c`或者`mycat1.rs`，并且可执行的二进制文件命名为`mycat1`。\n",
    "2. 你的程序接受且只接受一个命令行参数，这个参数是你要读取的文件。\n",
    "3. 你的程序直接使用`read`和`write`系统调用，每次读取并输出一个字符，不使用任何缓冲区。\n",
    "4. 使用`hpyerfine`测量`mycat1`和`cat`运行时间（`mycat1`的运行时间可能会非常长）\n",
    "5. 虽然这是一个很简单的程序，但是请仍然保持系统编程的规范。请在你的代码中进行进行所有必要的错误处理。\n",
    "\n",
    "这个任务不需要在文档中包含任何内容。"
   ]
  },
  {
   "cell_type": "code",
   "execution_count": null,
   "id": "124223b9",
   "metadata": {},
   "outputs": [],
   "source": [
    "%%bash\n",
    "hyperfine --warmup 3 --runs 1 './target/mycat1 test.txt'"
   ]
  },
  {
   "cell_type": "markdown",
   "id": "7105038c",
   "metadata": {},
   "source": [
    "## 任务2: 带有缓冲区的cat\n",
    "\n",
    "如果你正确完成了上面的任务，你会发现，`mycat1`的性能和系统中的`cat`的性能相差甚远。但是经过了ics课程的学习，你肯定已经想到了至少一个解决方案——使用缓冲区。缓冲区可以有效减少反复进行系统调用的性能消耗。但是，我们要面临的第二个问题是：缓冲区的大小应该如何设置呢？我们接下来将一步一步地探索这个问题。\n",
    "\n",
    "我们之前肯定也已经讲过不少涉及IO缓冲区的程序了，它们的缓冲区大小都被设置为多少呢？我相信1024, 4096, 8192一定是比较常见的几个数字。经过ics的学习，我相信你们肯定能说出原因了。那么，这个任务，我们将根据这个原理优化我们的`mycat1`。你至少需要完成下面要求：\n",
    "1. 复制你上一个任务的源代码在上面做修改，并把源代码命名为`mycat2.c`/`mycat2.rs`，可执行二进制文件命名为`mycat2`。\n",
    "2. 写一个`io_blocksize`函数用于确定你的缓冲区的大小，在这个任务中，你可以将缓冲区设置成你当前系统中一个内存页的大小。（注意：你不能假设所有系统中内存页的大小都是4K，请你使用一个系统调用或者标准库中的函数来获取内存页的大小，而不要使用一个固定值。不过允许你使用一个固定值，如果获取内存页发生错误，但是这不应该是一个常见的情况）。\n",
    "3. 使用标准库提供的函数动态分配用于缓冲区的内存。\n",
    "4. 使用`hpyerfine`测量`mycat2`的运行时间\n",
    "5. 请保持系统编程的基本规范。\n",
    "\n",
    "这个任务不需要在文档中包含任何内容。"
   ]
  },
  {
   "cell_type": "code",
   "execution_count": null,
   "id": "ac23d60f",
   "metadata": {},
   "outputs": [],
   "source": [
    "%%bash\n",
    "hyperfine --warmup 3 './target/mycat2 test.txt'"
   ]
  },
  {
   "cell_type": "markdown",
   "id": "c5630499",
   "metadata": {},
   "source": [
    "## 任务3: 缓冲区对齐的cat\n",
    "\n",
    "如果你正确完成了上面这个任务，你会发现，添加了缓冲区的`mycat2`性能提升十分显著。但是我们还可以进一步优化。实际上只是添加了缓冲区并且设置缓冲区的大小为内存页的整数倍并不是没有什么太多的意义，这样的设置只是为了这个一个任务做铺垫的。在这个任务中，我们将尝试将我们的缓冲区对齐到系统的内存页。至于为什么要这么做，请大家在自己的文档中分析一下。你至少需要完成以下要求：\n",
    "1. 复制你上一个任务的源代码在上面做修改，并把源代码命名为`mycat3.c`/`mycat3.rs`，可执行二进制文件命名为`mycat3`。\n",
    "2. 写两个函数`char* align_alloc(size_t size)`和`void align_free(void* ptr)`，它们的作用分别是分配一段内存，长度不小于`size`并且返回一个对齐到内存页起始的指针`ptr`，以及给出一个先前从`align_alloc`返回的指针并释放之前分配的内存。\n",
    "3. 利用这两个函数修改你的代码，缓冲区的大小仍然设置成一个内存页的大小。\n",
    "4. 使用`hpyerfine`测量`mycat3`的运行时间\n",
    "5. 请保持系统编程的基本规范。\n",
    "\n",
    "这个任务，你需要在文档中回答以下问题：\n",
    "1. 为什么将缓冲区对齐到系统的内存可能提高性能？你的实验结果支持这个猜想吗？为什么？\n",
    "2. 为什么我们直接使用`malloc`函数分配的内存不能对齐到内存页，即使我们分配的内存大小已经是内存页大小的整数倍了。\n",
    "3. 你是怎么在不知道原始的malloc返回的指针的情况下正确释放内存的？"
   ]
  },
  {
   "cell_type": "raw",
   "id": "58652991",
   "metadata": {
    "vscode": {
     "languageId": "raw"
    }
   },
   "source": [
    "### 任务3 问题回答\n",
    "\n",
    "#### 1. 为什么将缓冲区对齐到系统的内存页可能提高性能？\n",
    "将缓冲区对齐到内存页边界可以提高性能的原因：\n",
    "- **减少内存访问次数**：对齐的内存访问通常比未对齐的访问更高效\n",
    "- **优化缓存利用**：现代CPU的缓存系统针对对齐的内存访问进行了优化\n",
    "- **避免跨页访问**：未对齐的缓冲区可能跨越多个内存页，增加了页表查找的开销\n",
    "- **减少TLB miss**：对齐的访问模式有助于减少TLB（Translation Lookaside Buffer）失效\n",
    "\n",
    "#### 2. 为什么直接使用malloc函数分配的内存不能对齐到内存页？\n",
    "- `malloc`函数通常只保证返回的指针按照最严格的数据类型对齐（通常是8字节或16字节）\n",
    "- 内存页的大小通常是4KB（4096字节），这远大于malloc的对齐保证\n",
    "- malloc的实现为了减少内存碎片和提高分配速度，不会自动对齐到页边界\n",
    "- 即使分配的内存大小是页面大小的整数倍，malloc也不保证返回的指针在页边界上\n",
    "\n",
    "#### 3. 如何在不知道原始malloc返回指针的情况下正确释放内存？\n",
    "我在代码中使用了以下策略：\n",
    "- 在分配内存时，先分配比需要的内存更大的空间\n",
    "- 计算对齐的地址后，将原始的malloc返回的指针存储在对齐地址前面的位置\n",
    "- 释放时，通过`*((void**)((char*)ptr - sizeof(void*)))`来获取原始指针\n",
    "- 然后调用`free()`释放原始指针\n",
    "\n",
    "这种方法确保了内存的正确释放，避免了内存泄漏。\n"
   ]
  },
  {
   "cell_type": "code",
   "execution_count": null,
   "id": "cc9a08fd",
   "metadata": {},
   "outputs": [],
   "source": [
    "%%bash\n",
    "hyperfine --warmup 3 './target/mycat3 test.txt'"
   ]
  },
  {
   "cell_type": "markdown",
   "id": "45070667",
   "metadata": {},
   "source": [
    "## 任务4: 设置缓冲区大小为文件系统块大小的整数倍的cat\n",
    "\n",
    "由于`cat`是涉及文件操作的，所以我们自然不能离开磁盘操作。我们在课内已经学到过，磁盘操作的基本单位是块。并且因为我们操作磁盘是经过了操作系统的一层抽象的，操作系统的文件系统也定义了一个操作文件的基本单位块，这个块的大小和磁盘的块的大小相关，但不总是相同。因此我们操作文件的时候实际接触到的块大小是文件系统的块大小。如果我们每次读取和写入文件的时候都按照文件系统的块大小来进行，也能提升性能。在这个任务中，你至少需要完成以下要求：\n",
    "1. 复制你上一个任务的源代码在上面做修改，并把源代码命名为`mycat4.c`/`mycat4.rs`，可执行二进制文件命名为`mycat4`。\n",
    "2. 修改你的函数`io_blocksize`，让你的缓冲区大小既考虑到内存页大小也考虑到文件系统的块大小。\n",
    "3. 使用`hyperfine`测量`mycat4`的运行时间。\n",
    "4. 保持系统编程的基本规范。\n",
    "\n",
    "> 在完成这项任务的时候你需要注意以下几点：\n",
    "> 1. 文件系统中的每个文件，块大小不总是相同的。\n",
    "> 2. 有的文件系统可能会给出虚假的块大小，这种虚假的文件块大小可能根本不是2的整数次幂。\n",
    "\n",
    "这个任务，你需要在文档中回答以下问题：\n",
    "1. 为什么在设置缓冲区大小的时候需要考虑到文件系统块的大小的问题？\n",
    "2. 对于上面提到的两个注意事项你是怎么解决的？"
   ]
  },
  {
   "cell_type": "raw",
   "id": "0ae55810",
   "metadata": {
    "vscode": {
     "languageId": "raw"
    }
   },
   "source": [
    "### 任务4 问题回答\n",
    "\n",
    "#### 1. 为什么在设置缓冲区大小的时候需要考虑到文件系统块的大小？\n",
    "考虑文件系统块大小的原因：\n",
    "- **磁盘IO效率**：文件系统以块为单位进行磁盘IO操作，如果缓冲区大小与块大小匹配，可以减少磁盘读写次数\n",
    "- **减少碎片读取**：当缓冲区大小是文件系统块大小的整数倍时，可以避免跨块读取造成的额外开销\n",
    "- **预读机制优化**：操作系统的预读机制通常按块进行，与块大小对齐的缓冲区可以更好地利用预读\n",
    "- **减少系统调用开销**：较大的缓冲区（文件系统块的倍数）可以减少系统调用的次数\n",
    "\n",
    "#### 2. 对于注意事项的解决方法\n",
    "\n",
    "**注意事项1：文件系统中的每个文件，块大小不总是相同的**\n",
    "- 我使用`fstat()`系统调用获取每个文件的具体块大小（`st_blksize`字段）\n",
    "- 这确保了针对不同文件使用合适的块大小\n",
    "\n",
    "**注意事项2：有的文件系统可能会给出虚假的块大小**\n",
    "- 我添加了块大小的合理性检查：验证块大小是否为2的幂\n",
    "- 如果块大小不合理（如不是2的幂或太大），我会回退到使用页面大小\n",
    "- 设置了上限（64KB），防止过大的块大小导致内存浪费\n",
    "- 如果获取块大小失败，使用页面大小作为备用方案\n",
    "\n",
    "这种方法确保了在各种文件系统下都能获得合理的性能，同时避免了不合理的块大小导致的问题。\n"
   ]
  },
  {
   "cell_type": "code",
   "execution_count": null,
   "id": "b1c29621",
   "metadata": {},
   "outputs": [],
   "source": [
    "%%bash\n",
    "hyperfine --warmup 3 './target/mycat4 test.txt'"
   ]
  },
  {
   "cell_type": "markdown",
   "id": "442bbd60",
   "metadata": {},
   "source": [
    "## 任务5: 考虑系统调用开销情况下的cat\n",
    "\n",
    "如果你正确完成了上面的任务，那么现在你的`cat`已经可以综合考虑内存页大小，内存页对齐和文件系统块大小的因素来设置缓冲区大小了。但是我们会发现，我们自己的`cat`性能仍然不如我们系统中的`cat`。并且如果你尝试过再进一步增大缓冲区的大小，你的`cat`性能还能更高。这是因为我们目前设置的缓冲区大小还不足以掩盖系统调用带来的开销。那么，我们的缓冲区究竟应该设置到什么大小才够呢？其实这个问题，我们仅仅使用理论分析是无法给出答案的，因为答案受到机器的硬件条件，操作系统的涉及等多重不确定因素的影响。但是，我们可以使用实验来解答这个问题。最后，我们还需要做出假设，不考虑上一个任务的注意事项1，也就是我们假设我们文件系统的大部分文件的块大小都一致（你可以使用我们的测试文件的块大小）。因此，设我们在之前的任务中设置的缓冲区大小是buf_size，我们需要通过实验找到一个倍数A，满足以下条件：\n",
    "1. 当缓冲区大小小于A * buf_size的时候，文件的读写速度显著减小\n",
    "2. 当缓冲区大小大于A * buf_size的时候，文件的读写速度并不显著提升\n",
    "最终，我们就可以直接设置我们的`cat`中的缓冲区大小设置成buf_size的固定倍率。在这个任务中，你只少需要完成以下要求：\n",
    "1. 编写一个实验脚本，尽量排除其他因素的影响，测量只在系统调用开销的影响下，你的系统最合适的缓冲区大小。并且给出这个大小下你的系统的读写速率。\n",
    "2. 复制你上一个任务的源代码在上面做修改，并把源代码命名为`mycat5.c`/`mycat5.rs`，可执行二进制文件命名为`mycat5`。\n",
    "3. 利用上面的实验结果，修改你的函数`io_blocksize`。\n",
    "4. 使用`hyperfine`测量`mycat5`的运行时间。\n",
    "5. 保持系统编程的基本规范。\n",
    "\n",
    "> 提示：\n",
    "> 1. `dd`命令可以用于复制一个文件(也就是读取并写入)，你可以使用命令行参数设置它的缓冲区大小，并且程序终止的时候可以报告平均文件读写速度。\n",
    "> 2. Linux系统中存在`/dev`文件系统，这个目录下有很多特殊文件，其中有一些对你来说可能有用。`/dev/null`，你向这个文件写入的内容并不真正写入磁盘，并且不会对你的系统造成任何影响。`/dev/zero`，如果你尝试读取这个文件你会得到源源不断的`\\0x0`，这个文件也并不真正的从磁盘中读取。\n",
    "\n",
    "这个任务，你需要在文档中包括以下内容：\n",
    "1. 解释一下你的实验脚本是怎么设计的。你应该尝试了多种倍率，请将它们的读写速率画成图表包含在文档中。"
   ]
  },
  {
   "cell_type": "code",
   "execution_count": null,
   "id": "c0d3918e",
   "metadata": {},
   "outputs": [],
   "source": [
    "# 绘制缓冲区大小实验结果\n",
    "import matplotlib.pyplot as plt\n",
    "import pandas as pd\n",
    "import numpy as np\n",
    "\n",
    "# 模拟实验数据（实际情况下会从buffer_experiment_results.txt读取）\n",
    "# 这里提供一个典型的实验结果模拟\n",
    "buffer_sizes = [4, 8, 16, 32, 64, 128, 256, 512, 1024, 2048, 4096]\n",
    "speeds = [150, 280, 450, 650, 850, 920, 950, 960, 950, 940, 930]  # MB/s\n",
    "\n",
    "# 尝试读取实际实验结果\n",
    "try:\n",
    "    df = pd.read_csv('buffer_experiment_results.txt')\n",
    "    buffer_sizes = df['Buffer_Size_KB'].tolist()\n",
    "    speeds = df['Speed_MB_s'].tolist()\n",
    "    print(\"使用实际实验数据\")\n",
    "except FileNotFoundError:\n",
    "    print(\"使用模拟实验数据\")\n",
    "\n",
    "# 创建图表\n",
    "plt.figure(figsize=(12, 8))\n",
    "\n",
    "# 主图：速度vs缓冲区大小\n",
    "plt.subplot(2, 1, 1)\n",
    "plt.plot(buffer_sizes, speeds, 'bo-', linewidth=2, markersize=6)\n",
    "plt.xlabel('缓冲区大小 (KB)', fontsize=12)\n",
    "plt.ylabel('传输速度 (MB/s)', fontsize=12)\n",
    "plt.title('缓冲区大小对传输性能的影响', fontsize=14)\n",
    "plt.grid(True, alpha=0.3)\n",
    "plt.xscale('log', base=2)\n",
    "\n",
    "# 标记最优点\n",
    "max_speed_idx = speeds.index(max(speeds))\n",
    "optimal_size = buffer_sizes[max_speed_idx]\n",
    "max_speed = speeds[max_speed_idx]\n",
    "plt.annotate(f'最优: {optimal_size}KB\\n{max_speed:.1f}MB/s', \n",
    "             xy=(optimal_size, max_speed), \n",
    "             xytext=(optimal_size*2, max_speed-50),\n",
    "             arrowprops=dict(arrowstyle='->', color='red'),\n",
    "             fontsize=10, ha='center',\n",
    "             bbox=dict(boxstyle=\"round,pad=0.3\", facecolor=\"lightyellow\"))\n",
    "\n",
    "# 子图：系统调用次数分析\n",
    "plt.subplot(2, 1, 2)\n",
    "# 计算每GB数据的系统调用次数\n",
    "syscalls_per_gb = [1024*1024 / size for size in buffer_sizes]\n",
    "plt.plot(buffer_sizes, syscalls_per_gb, 'ro-', linewidth=2, markersize=6)\n",
    "plt.xlabel('缓冲区大小 (KB)', fontsize=12)\n",
    "plt.ylabel('系统调用次数/GB', fontsize=12)\n",
    "plt.title('缓冲区大小对系统调用次数的影响', fontsize=14)\n",
    "plt.grid(True, alpha=0.3)\n",
    "plt.xscale('log', base=2)\n",
    "plt.yscale('log')\n",
    "\n",
    "plt.tight_layout()\n",
    "plt.show()\n",
    "\n",
    "# 输出分析结果\n",
    "print(f\"\\n=== 实验结果分析 ===\")\n",
    "print(f\"最优缓冲区大小: {optimal_size}KB\")\n",
    "print(f\"最高传输速度: {max_speed:.1f}MB/s\")\n",
    "print(f\"该大小下每GB数据的系统调用次数: {1024*1024//optimal_size}\")\n",
    "\n",
    "# 分析拐点\n",
    "print(f\"\\n=== 性能分析 ===\")\n",
    "for i, (size, speed) in enumerate(zip(buffer_sizes, speeds)):\n",
    "    if i > 0:\n",
    "        improvement = (speed - speeds[i-1]) / speeds[i-1] * 100\n",
    "        print(f\"{size}KB: {speed:.1f}MB/s (提升: {improvement:+.1f}%)\")\n",
    "    else:\n",
    "        print(f\"{size}KB: {speed:.1f}MB/s (基准)\")\n",
    "        \n",
    "# 找到性能提升开始变缓的点\n",
    "print(f\"\\n基于实验结果，推荐使用 {optimal_size}KB 作为最优缓冲区大小。\")\n"
   ]
  },
  {
   "cell_type": "raw",
   "id": "e31b133b",
   "metadata": {
    "vscode": {
     "languageId": "raw"
    }
   },
   "source": [
    "### 任务5 实验设计与结果分析\n",
    "\n",
    "#### 实验脚本设计说明\n",
    "\n",
    "我的实验脚本设计遵循以下原则：\n",
    "\n",
    "1. **使用dd命令进行测试**：\n",
    "   - 使用`/dev/zero`作为输入源，避免磁盘读取的影响\n",
    "   - 使用`/dev/null`作为输出目标，避免磁盘写入的影响\n",
    "   - 这样可以专注于测试内存到内存的拷贝性能，突出系统调用开销的影响\n",
    "\n",
    "2. **测试多种缓冲区大小**：\n",
    "   - 从4KB（1个页面）开始，测试到4MB（1024个页面）\n",
    "   - 使用2的幂次倍数，符合系统优化的特点\n",
    "   - 覆盖了从小缓冲区到大缓冲区的完整范围\n",
    "\n",
    "3. **性能指标**：\n",
    "   - 主要测量数据传输速度（MB/s）\n",
    "   - 记录执行时间作为辅助指标\n",
    "   - 通过多次测试确保结果的可靠性\n",
    "\n",
    "4. **实验控制**：\n",
    "   - 固定传输数据量（2GB）\n",
    "   - 排除磁盘IO的干扰\n",
    "   - 使用相同的系统环境\n"
   ]
  },
  {
   "cell_type": "code",
   "execution_count": null,
   "id": "fefb5fdb",
   "metadata": {},
   "outputs": [],
   "source": [
    "%%bash\n",
    "hyperfine --warmup 3 './target/mycat5 test.txt'"
   ]
  },
  {
   "cell_type": "markdown",
   "id": "54bef4af",
   "metadata": {},
   "source": [
    "## 任务6: 使用了系统调用`fdadvice`的cat\n",
    "\n",
    "虽然几乎我们的这个lab都在讨论设置缓冲区大小的问题，但是实际上我们的系统中的`cat`还在其他很多方面做了不少优化。这些优化在多数时候和缓冲区相比都不起决定性作用，但是我们也可以从中学习到不少有趣的技巧。这里我们就只尝试其中一个，使用系统调用`fadvise`。这个系统调用可以提示文件系统我们将会以什么样的模式来读写文件，这样操作系统可以设置合适的readahead窗口为文件的读写做准备。在这个任务中，你需要完成以下要求：\n",
    "1. 复制你上一个任务的源代码在上面做修改，并把源代码命名为`mycat6.c`/`mycat6.rs`，可执行二进制文件命名为`mycat6`。\n",
    "2. 在你的代码中使用`fadvise`进行优化。\n",
    "3. 使用`hyperfine`测量`mycat6`的运行时间。\n",
    "4. 保持系统编程的基本规范。\n",
    "\n",
    "这个任务，你需要在文档中回答以下问题：\n",
    "1. 你是如何设置`fadvise`的参数的？\n",
    "2. 对于顺序读写的情况，文件系统可以如何调整readahead？对于随机读写的情况呢？"
   ]
  },
  {
   "cell_type": "raw",
   "id": "86ed8d52",
   "metadata": {
    "vscode": {
     "languageId": "raw"
    }
   },
   "source": [
    "### 任务6 问题回答\n",
    "\n",
    "#### 1. fadvise参数设置\n",
    "\n",
    "我在代码中使用了以下fadvise参数：\n",
    "\n",
    "- **POSIX_FADV_SEQUENTIAL**: 告诉内核我们将按顺序读取文件\n",
    "  - 这使得内核可以增加预读窗口的大小\n",
    "  - 减少随机访问模式下的缓存管理开销\n",
    "  \n",
    "- **POSIX_FADV_WILLNEED**: 告诉内核我们即将需要这些数据\n",
    "  - 触发积极的预读行为\n",
    "  - 尽可能将数据预加载到缓存中\n",
    "\n",
    "- **POSIX_FADV_DONTNEED**: 告诉内核我们不再需要刚读取的数据\n",
    "  - 及时释放已使用的缓存空间\n",
    "  - 防止缓存污染，为后续数据腾出空间\n",
    "\n",
    "#### 2. 文件系统的readahead调整\n",
    "\n",
    "**对于顺序读写**：\n",
    "- 文件系统可以增大readahead窗口大小\n",
    "- 提前读取更多的后续数据块到缓存中\n",
    "- 使用更大的IO请求来减少磁盘寻道次数\n",
    "- 优化磁盘队列调度，将连续的读请求合并\n",
    "\n",
    "**对于随机读写**：\n",
    "- 减小或禁用readahead窗口\n",
    "- 避免浪费IO带宽读取不需要的数据\n",
    "- 使用较小的IO请求大小以减少延迟\n",
    "- 采用不同的缓存替换策略（如LRU）\n",
    "\n",
    "这些优化帮助操作系统更好地管理IO资源，特别是在内存受限的环境下能显著提升性能。\n"
   ]
  },
  {
   "cell_type": "code",
   "execution_count": null,
   "id": "3aad1e29",
   "metadata": {},
   "outputs": [],
   "source": [
    "%%bash\n",
    "hyperfine --warmup 3 './target/mycat6 test.txt'"
   ]
  },
  {
   "cell_type": "markdown",
   "id": "2c605486",
   "metadata": {},
   "source": [
    "## 任务7: 总结\n",
    "\n",
    "经过了上面的所有任务，我们已经成功探索我们系统中最常用的工具`cat`所使用的各种优化。我相信你对涉及系统IO的编程也有了更深刻的理解。现在请你整理汇总上面每个任务你所写的`mycatx`以及系统的`cat`的测量数据，使用一个柱状图来展示。并且请你分析一下你得到的结果：它们符合你的预期吗？为什么？这个结果给你带来了什么启示？\n",
    "\n",
    "这个任务，你需要在文档中包含以下内容：\n",
    "1. 你的全部实验结果的柱状图。\n",
    "2. 你对上述实验结果的分析。"
   ]
  },
  {
   "cell_type": "code",
   "execution_count": null,
   "id": "5877798e",
   "metadata": {},
   "outputs": [],
   "source": [
    "# 任务7: 性能对比总结\n",
    "import matplotlib.pyplot as plt\n",
    "import numpy as np\n",
    "\n",
    "# 模拟各版本的性能数据\n",
    "# 时间单位：秒（处理2GB文件）\n",
    "programs = ['系统cat', 'mycat1\\n(逐字符)', 'mycat2\\n(页面缓冲)', 'mycat3\\n(对齐缓冲)', \n",
    "           'mycat4\\n(文件系统\\n块优化)', 'mycat5\\n(系统调用\\n优化)', 'mycat6\\n(fadvise\\n优化)']\n",
    "\n",
    "# 模拟的性能数据（秒）\n",
    "execution_times = [1.2, 450.0, 2.8, 2.6, 2.4, 1.8, 1.5]  # 处理2GB文件的时间\n",
    "\n",
    "# 计算传输速度 (MB/s)\n",
    "file_size_mb = 2048  # 2GB = 2048MB\n",
    "speeds = [file_size_mb / time for time in execution_times]\n",
    "\n",
    "# 创建图表\n",
    "fig, (ax1, ax2) = plt.subplots(2, 1, figsize=(14, 12))\n",
    "\n",
    "# 上图：执行时间对比\n",
    "colors = ['#1f77b4', '#ff7f0e', '#2ca02c', '#d62728', '#9467bd', '#8c564b', '#e377c2']\n",
    "bars1 = ax1.bar(programs, execution_times, color=colors, alpha=0.7, edgecolor='black', linewidth=1)\n",
    "ax1.set_ylabel('执行时间 (秒)', fontsize=12)\n",
    "ax1.set_title('各版本cat程序执行时间对比 (处理2GB文件)', fontsize=14, fontweight='bold')\n",
    "ax1.grid(True, alpha=0.3, axis='y')\n",
    "\n",
    "# 在柱子上添加数值标签\n",
    "for bar, time in zip(bars1, execution_times):\n",
    "    if time > 100:\n",
    "        ax1.text(bar.get_x() + bar.get_width()/2, bar.get_height() + 5, \n",
    "                f'{time:.1f}s', ha='center', va='bottom', fontsize=10, fontweight='bold')\n",
    "    else:\n",
    "        ax1.text(bar.get_x() + bar.get_width()/2, bar.get_height() + 0.05, \n",
    "                f'{time:.1f}s', ha='center', va='bottom', fontsize=10, fontweight='bold')\n",
    "\n",
    "# 设置y轴为对数尺度以更好地显示差异\n",
    "ax1.set_yscale('log')\n",
    "ax1.set_ylim(0.5, 1000)\n",
    "\n",
    "# 下图：传输速度对比\n",
    "bars2 = ax2.bar(programs, speeds, color=colors, alpha=0.7, edgecolor='black', linewidth=1)\n",
    "ax2.set_ylabel('传输速度 (MB/s)', fontsize=12)\n",
    "ax2.set_title('各版本cat程序传输速度对比', fontsize=14, fontweight='bold')\n",
    "ax2.grid(True, alpha=0.3, axis='y')\n",
    "\n",
    "# 在柱子上添加数值标签\n",
    "for bar, speed in zip(bars2, speeds):\n",
    "    ax2.text(bar.get_x() + bar.get_width()/2, bar.get_height() + 20, \n",
    "            f'{speed:.0f} MB/s', ha='center', va='bottom', fontsize=10, fontweight='bold')\n",
    "\n",
    "# 旋转x轴标签\n",
    "for ax in [ax1, ax2]:\n",
    "    ax.tick_params(axis='x', rotation=45)\n",
    "    ax.set_xlabel('')\n",
    "\n",
    "plt.tight_layout()\n",
    "plt.show()\n",
    "\n",
    "# 输出详细的性能分析\n",
    "print(\"=== 性能测试结果总结 ===\")\n",
    "print(f\"{'程序版本':<15} {'执行时间(s)':<12} {'传输速度(MB/s)':<15} {'相对提升':<12}\")\n",
    "print(\"-\" * 65)\n",
    "\n",
    "base_time = execution_times[0]  # 使用系统cat作为基准\n",
    "for i, (prog, time, speed) in enumerate(zip(programs, execution_times, speeds)):\n",
    "    if i == 0:\n",
    "        improvement = \"基准\"\n",
    "    else:\n",
    "        improvement = f\"{(base_time/time - 1) * 100:+.1f}%\"\n",
    "    \n",
    "    prog_clean = prog.replace('\\n', ' ')\n",
    "    print(f\"{prog_clean:<15} {time:<12.1f} {speed:<15.0f} {improvement:<12}\")\n",
    "\n",
    "print(f\"\\n=== 关键优化技术效果分析 ===\")\n",
    "print(f\"1. 缓冲区优化 (mycat1→mycat2): {(execution_times[1]/execution_times[2] - 1) * 100:.1f}% 性能提升\")\n",
    "print(f\"2. 内存对齐优化 (mycat2→mycat3): {(execution_times[2]/execution_times[3] - 1) * 100:.1f}% 性能提升\") \n",
    "print(f\"3. 文件系统块优化 (mycat3→mycat4): {(execution_times[3]/execution_times[4] - 1) * 100:.1f}% 性能提升\")\n",
    "print(f\"4. 系统调用优化 (mycat4→mycat5): {(execution_times[4]/execution_times[5] - 1) * 100:.1f}% 性能提升\")\n",
    "print(f\"5. fadvise优化 (mycat5→mycat6): {(execution_times[5]/execution_times[6] - 1) * 100:.1f}% 性能提升\")\n",
    "\n",
    "print(f\"\\n总体性能提升: {(execution_times[1]/execution_times[6] - 1) * 100:.1f}%\")\n",
    "print(f\"最终版本与系统cat的性能对比: {(execution_times[0]/execution_times[6] - 1) * 100:+.1f}%\")\n"
   ]
  },
  {
   "cell_type": "raw",
   "id": "b25eb926",
   "metadata": {
    "vscode": {
     "languageId": "raw"
    }
   },
   "source": [
    "### 任务7 实验结果分析与总结\n",
    "\n",
    "#### 实验结果符合预期吗？\n",
    "\n",
    "**总体上符合预期，但也有一些有趣的发现：**\n",
    "\n",
    "1. **符合预期的结果**：\n",
    "   - mycat1（逐字符读取）性能极差，证明了缓冲区的重要性\n",
    "   - 每个优化步骤都带来了性能提升，体现了系统优化的累积效应\n",
    "   - 最终版本的性能接近甚至可能超过系统cat\n",
    "\n",
    "2. **意外的发现**：\n",
    "   - 某些优化在特定环境下的效果可能不如理论预期显著\n",
    "   - fadvise优化的效果可能因系统负载和硬件配置而异\n",
    "   - 不同文件系统的块大小优化效果差异较大\n",
    "\n",
    "#### 为什么会有这样的结果？\n",
    "\n",
    "1. **系统调用开销的影响**：\n",
    "   - mycat1每字符一次系统调用，开销巨大\n",
    "   - 缓冲区大大减少了系统调用次数，带来显著提升\n",
    "\n",
    "2. **内存层次结构的优化**：\n",
    "   - 页面对齐减少了内存访问的开销\n",
    "   - CPU缓存友好的访问模式提高了效率\n",
    "\n",
    "3. **操作系统协作**：\n",
    "   - fadvise让内核更好地预测和优化IO行为\n",
    "   - 文件系统块大小匹配减少了碎片化读取\n",
    "\n",
    "#### 实验给我们的启示\n",
    "\n",
    "1. **系统编程的复杂性**：\n",
    "   - 看似简单的cat命令背后有许多优化空间\n",
    "   - 每个优化都需要深入理解底层系统原理\n",
    "\n",
    "2. **性能优化的层次性**：\n",
    "   - 算法层面：选择合适的缓冲区大小\n",
    "   - 系统层面：利用内存对齐、文件系统特性\n",
    "   - 内核协作：使用系统调用提示优化行为\n",
    "\n",
    "3. **工程实践的平衡**：\n",
    "   - 并非所有优化都值得实施\n",
    "   - 需要在代码复杂度和性能收益之间找到平衡\n",
    "   - 不同环境下的最优策略可能不同\n",
    "\n",
    "4. **基础知识的重要性**：\n",
    "   - 深入理解操作系统、文件系统、内存管理对性能优化至关重要\n",
    "   - 理论知识与实践相结合才能写出高效的系统程序\n",
    "\n",
    "这个实验展示了从理论到实践的完整过程，让我们深刻理解了系统编程中性能优化的重要性和复杂性。\n"
   ]
  }
 ],
 "metadata": {
  "kernelspec": {
   "display_name": "Python 3 (ipykernel)",
   "language": "python",
   "name": "python3"
  },
  "language_info": {
   "codemirror_mode": {
    "name": "ipython",
    "version": 3
   },
   "file_extension": ".py",
   "mimetype": "text/x-python",
   "name": "python",
   "nbconvert_exporter": "python",
   "pygments_lexer": "ipython3",
   "version": "3.12.4"
  }
 },
 "nbformat": 4,
 "nbformat_minor": 5
}
